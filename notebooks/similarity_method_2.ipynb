{
 "cells": [
  {
   "cell_type": "markdown",
   "metadata": {},
   "source": [
    "# Similarity method #2\n",
    "\n",
    "The objective of this notebook is to build a way to measure similarities between intents. \n",
    "\n",
    "A first method was previously build and was implementing continuous bags of words (CBOW), which consisted in simply embedding each question as the average of the embeddings of its words (possible modulations of this method consisted in 1. Taking the weighted average with weights being the inverse document frequency of the words, where the idf are computed on a relevant train set, and 2. Only summing the embedding of some words of interests, like nouns, which usually convey most of what people are asking for when asking a question). Once all questions are embedded, we compare the similarity between two questions using a similarity measure (usually cosine similarity).\n",
    "\n",
    "In this notebook, we try a second method. Rather than summing over all the words of a question and the measuring the similarity with another question, we do as follow:\n",
    "1. Filter both questions using POS tagging (keeping only nouns for instance)\n",
    "2. For each filtered word of question 1, measure similarity with each filtered word of question 2 and keep only the highest similarity measure (intuition is, 2 questions would be similar if they ask for the same \"objects\" with same relationships between those, like 'average', 'number', 'user', 'march'). \n",
    "3. Optional step is to apply a non linearity to penalize lower similarities and give more weight to higher similarities (step detailed in the notebook).\n",
    "4. Consider as similarity score between the two questions the sum of the previously computed pairwise similarities"
   ]
  },
  {
   "cell_type": "code",
   "execution_count": 1,
   "metadata": {
    "collapsed": true
   },
   "outputs": [],
   "source": [
    "%matplotlib inline"
   ]
  },
  {
   "cell_type": "code",
   "execution_count": 2,
   "metadata": {
    "collapsed": false
   },
   "outputs": [
    {
     "name": "stdout",
     "output_type": "stream",
     "text": [
      "Couldn't import dot_parser, loading of dot files will not be possible.\n"
     ]
    }
   ],
   "source": [
    "import numpy as np\n",
    "import matplotlib.pyplot as plt\n",
    "import gensim\n",
    "import nltk\n",
    "import inflect"
   ]
  },
  {
   "cell_type": "code",
   "execution_count": 3,
   "metadata": {
    "collapsed": false
   },
   "outputs": [],
   "source": [
    "# Load any words embedding\n",
    "# Here we use word2vec Google pretrained model\n",
    "# The link to download those embeddings can be found on this page :\n",
    "# https://github.com/mmihaltz/word2vec-GoogleNews-vectors  (download .gz file in the README)\n",
    "\n",
    "path = './model/GoogleNews-vectors-negative300.bin'\n",
    "model = gensim.models.Word2Vec.load_word2vec_format(path, binary=True)"
   ]
  },
  {
   "cell_type": "code",
   "execution_count": 4,
   "metadata": {
    "collapsed": false
   },
   "outputs": [
    {
     "data": {
      "text/plain": [
       "0.59324205934254348"
      ]
     },
     "execution_count": 4,
     "metadata": {},
     "output_type": "execute_result"
    }
   ],
   "source": [
    "model.similarity('customers','users')"
   ]
  },
  {
   "cell_type": "markdown",
   "metadata": {},
   "source": [
    "## 1) Introduction\n",
    "\n",
    "The Objective here is just to show separately which core function we'll use to build our similarity module, and what each function does"
   ]
  },
  {
   "cell_type": "markdown",
   "metadata": {},
   "source": [
    "### Part of Speech (POS)\n",
    "\n",
    "Here, we just quickly show how POS functions work."
   ]
  },
  {
   "cell_type": "code",
   "execution_count": 5,
   "metadata": {
    "collapsed": false
   },
   "outputs": [
    {
     "name": "stdout",
     "output_type": "stream",
     "text": [
      "[('many', 'JJ'), ('users', 'NNS'), ('base', 'NN')]\n"
     ]
    }
   ],
   "source": [
    "# POS to keep\n",
    "keep_pos = ['NN', 'NNS', 'VB','JJ']\n",
    "\n",
    "# POS tags meaing available at :\n",
    "# https://www.ling.upenn.edu/courses/Fall_2003/ling001/penn_treebank_pos.html\n",
    "# FYI, available POS tags :\n",
    "['PRP$','VBG','VBD','VBN','VBP','WDT','JJ','WP','VBZ','DT','RP','NN','FW','POS',\n",
    "'TO','LS','RB','NNS','NNP','VB','WRB','CC','PDT','RBS','RBR','CD','PRP','EX','IN',\n",
    "'WP$','MD','NNPS','JJS','JJR','SYM','UH']\n",
    "\n",
    "# Question\n",
    "q = 'how many users are in the base'\n",
    "q_tokens = nltk.word_tokenize(q)\n",
    "q_tagged = nltk.pos_tag(q_tokens)\n",
    "q_tagged_filtered = [q_tagged[i] for i in range(len(q_tagged)) if q_tagged[i][1] in keep_pos]\n",
    "\n",
    "print q_tagged_filtered"
   ]
  },
  {
   "cell_type": "markdown",
   "metadata": {},
   "source": [
    "Taking singular forms of nouns is important since similarity(A,A') > similarity(As,A')"
   ]
  },
  {
   "cell_type": "code",
   "execution_count": 6,
   "metadata": {
    "collapsed": false
   },
   "outputs": [
    {
     "name": "stdout",
     "output_type": "stream",
     "text": [
      "1.0\n",
      "0.742383054369\n"
     ]
    }
   ],
   "source": [
    "print model.similarity('car','car')\n",
    "print model.similarity('cars','car')"
   ]
  },
  {
   "cell_type": "code",
   "execution_count": 7,
   "metadata": {
    "collapsed": false
   },
   "outputs": [
    {
     "name": "stdout",
     "output_type": "stream",
     "text": [
      "['many', 'user', 'base']\n"
     ]
    }
   ],
   "source": [
    "p = inflect.engine()\n",
    "\n",
    "q_singular = []\n",
    "for pos in q_tagged_filtered:\n",
    "    if pos[1] != 'NNS':\n",
    "        q_singular.append(pos[0]) \n",
    "    elif pos[1] == 'NNS':\n",
    "        q_singular.append(p.singular_noun(pos[0]))\n",
    "\n",
    "print q_singular"
   ]
  },
  {
   "cell_type": "markdown",
   "metadata": {},
   "source": [
    "### Pairwise similarities non linear transformation\n",
    "\n",
    "Reason for doing this comes from experimentation observations : usually, semtenticly speaking different words will still have a non-zero similarity (usually < .5 ) wich has a non-negligeable weight when summing over all pairwise similarities (even more if we multiply by the words idf). Hence, we would like to push down those similarities towards 0. Similarly, different but synonyms word will not have 1 similarity (but usually similarities > .5), so we might want to push up those similarities towards 1.  "
   ]
  },
  {
   "cell_type": "code",
   "execution_count": 8,
   "metadata": {
    "collapsed": false
   },
   "outputs": [
    {
     "name": "stdout",
     "output_type": "stream",
     "text": [
      "0.554684003043\n",
      "0.107564718592\n"
     ]
    }
   ],
   "source": [
    "# pairwise similarity of similar words is not that far from pairwise similarity of non simmilar words\n",
    "print model.similarity('user','customer')\n",
    "print model.similarity('user','city')"
   ]
  },
  {
   "cell_type": "code",
   "execution_count": 9,
   "metadata": {
    "collapsed": false
   },
   "outputs": [
    {
     "data": {
      "text/plain": [
       "[<matplotlib.lines.Line2D at 0x25a662b10>]"
      ]
     },
     "execution_count": 9,
     "metadata": {},
     "output_type": "execute_result"
    },
    {
     "data": {
      "image/png": "[encoded data removed]",
      "text/plain": [
       "<matplotlib.figure.Figure at 0x111624c90>"
      ]
     },
     "metadata": {},
     "output_type": "display_data"
    }
   ],
   "source": [
    "# Most natural non linearity shape we could think about is a sigmoid-like function transposed to [0, 1] --> [0, 1]\n",
    "m = 30\n",
    "x_values = [0.01*x for x in range(101)]\n",
    "y_values = [1/(1+ np.exp(-m*(x-0.5))) for x in x_values]\n",
    "plt.plot(x_values,y_values)"
   ]
  },
  {
   "cell_type": "code",
   "execution_count": 10,
   "metadata": {
    "collapsed": false
   },
   "outputs": [
    {
     "data": {
      "text/plain": [
       "[<matplotlib.lines.Line2D at 0x25a8b3a50>]"
      ]
     },
     "execution_count": 10,
     "metadata": {},
     "output_type": "execute_result"
    },
    {
     "data": {
      "image/png": "[encoded data removed]",
      "text/plain": [
       "<matplotlib.figure.Figure at 0x105aa1e50>"
      ]
     },
     "metadata": {},
     "output_type": "display_data"
    }
   ],
   "source": [
    "# Other non linearities we can thing of (but is not giving results in practice)\n",
    "k = 0.5\n",
    "x_values = [0.01*x for x in range(101)]\n",
    "y_values = [k*x/(k-x+1) for x in x_values]\n",
    "plt.plot(x_values,y_values)"
   ]
  },
  {
   "cell_type": "code",
   "execution_count": 11,
   "metadata": {
    "collapsed": true
   },
   "outputs": [],
   "source": [
    "def non_linear(x, non_linearity='none'):\n",
    "    '''\n",
    "    add a non linearity such as it penalizes values close to 0 (push them even more towards 0)\n",
    "    'exponential' and 'sigmoid' only refer to the shape of the non linearities, but the functions\n",
    "    are adapted to fit on [0,1] --> [0,1]\n",
    "    '''\n",
    "    if non_linearity=='none':\n",
    "        y = x\n",
    "    if non_linearity=='exponential':\n",
    "        k = 0.5\n",
    "        y = k*x/(k-x+1)\n",
    "    if non_linearity=='sigmoid':\n",
    "        m = 20\n",
    "        y = 1/(1+ np.exp(-m*(x-0.5)))\n",
    "    return y"
   ]
  },
  {
   "cell_type": "code",
   "execution_count": 12,
   "metadata": {
    "collapsed": false
   },
   "outputs": [
    {
     "name": "stdout",
     "output_type": "stream",
     "text": [
      "0.554684003043\n",
      "0.749074067436\n",
      "0.107564718592\n",
      "0.000390104537917\n"
     ]
    }
   ],
   "source": [
    "# Sigmoid like non linearity enhances the similarities differences \n",
    "print model.similarity('user','customer')\n",
    "print non_linear(model.similarity('user','customer'), non_linearity='sigmoid')\n",
    "print model.similarity('user','city')\n",
    "print non_linear(model.similarity('user','city'), non_linearity='sigmoid')"
   ]
  },
  {
   "cell_type": "markdown",
   "metadata": {},
   "source": [
    "## Similarity #2 code\n",
    "\n",
    "Here we just provide the code implementation of our similarity method #2 explained at the top.\n",
    "The last cell can be used to play around and make comparisons between 2 user questions and 1 hardcoded question"
   ]
  },
  {
   "cell_type": "code",
   "execution_count": 13,
   "metadata": {
    "collapsed": true
   },
   "outputs": [],
   "source": [
    "keep_pos = ['NN', 'NNS', 'VB', 'JJ']\n",
    "\n",
    "def filter_pos(question):\n",
    "    '''\n",
    "    From a sentence, return list of tuples [(word, POS)] if POS in self.keep_pos (by default : noun(s))\n",
    "    '''\n",
    "    question_tokens = nltk.word_tokenize(question)\n",
    "    question_tagged = nltk.pos_tag(question_tokens)\n",
    "    question_tagged_pos = [question_tagged[i] \n",
    "                            for i in range(len(question_tagged)) \n",
    "                            if question_tagged[i][1] \n",
    "                            in keep_pos]\n",
    "    return question_tagged_pos\n",
    "\n",
    "def plural_to_singular(tagged_pos):\n",
    "    '''\n",
    "    Putting all nouns to singular form (because similarity(A,A') > similarity(A,As'))\n",
    "    '''\n",
    "    p = inflect.engine()\n",
    "    q_singular = []\n",
    "    for pos in tagged_pos:\n",
    "        if pos[1] != 'NNS':\n",
    "            q_singular.append(pos[0]) \n",
    "        else:\n",
    "            q_singular.append(p.singular_noun(pos[0]))\n",
    "    return q_singular\n",
    "\n",
    "\n",
    "def find_sim(question_nouns_1, question_nouns_2, non_linearity='none'):\n",
    "    max_len = max(len(question_nouns_1), len(question_nouns_2))\n",
    "    if len(question_nouns_1) == max_len:\n",
    "        seq1, seq2 = question_nouns_1, question_nouns_2\n",
    "    else:\n",
    "        seq1, seq2 = question_nouns_2, question_nouns_1\n",
    "\n",
    "    similarity = {}\n",
    "    for word1 in seq1:\n",
    "        similarities = []\n",
    "        for word2 in seq2:\n",
    "            # try except in case word not in model vocabulary\n",
    "            try:\n",
    "                similarities.append(model.similarity(word1, word2))\n",
    "            except:\n",
    "                continue\n",
    "\n",
    "        try:\n",
    "            sim_max = max(similarities)\n",
    "            word2_sim_max = seq2[similarities.index(sim_max)]\n",
    "            # apply non linearity\n",
    "            similarity[(word1, word2_sim_max)] = non_linear(sim_max, non_linearity)\n",
    "        except:\n",
    "            continue\n",
    "            \n",
    "        print 'max pairwise similarity: ', word1, word2_sim_max, similarity[(word1, word2_sim_max)]\n",
    "\n",
    "    similarity_score = 0\n",
    "    if len(similarity.values()) > 0 :\n",
    "        similarity_score = sum(similarity.values())/len(similarity.values())\n",
    "\n",
    "    return similarity_score\n",
    "\n",
    "\n",
    "\n",
    "def find_similarity(question1, question2, non_linearity='none'):\n",
    "    question_tagged_nouns_1 = filter_pos(question1)\n",
    "    question_tagged_nouns_2 = filter_pos(question2)\n",
    "    question_nouns_1 = plural_to_singular(question_tagged_nouns_1)\n",
    "    question_nouns_2 = plural_to_singular(question_tagged_nouns_2)\n",
    "    similarity_score = find_sim(question_nouns_1, question_nouns_2, non_linearity)\n",
    "    print 'sentence similarity score: '\n",
    "    return similarity_score"
   ]
  },
  {
   "cell_type": "code",
   "execution_count": 14,
   "metadata": {
    "collapsed": false
   },
   "outputs": [
    {
     "name": "stdout",
     "output_type": "stream",
     "text": [
      "With non_linearity=none \n",
      "\n",
      "max pairwise similarity:  many number 0.495196614879\n",
      "max pairwise similarity:  vehicle car 0.782109646008\n",
      "max pairwise similarity:  database database 1.0\n",
      "sentence similarity score: \n",
      "0.759102086962\n",
      " \n",
      "max pairwise similarity:  many many 1.0\n",
      "max pairwise similarity:  vehicle user 0.179300899246\n",
      "max pairwise similarity:  database user 0.304389234559\n",
      "sentence similarity score: \n",
      "0.494563377935\n",
      "\n",
      "With non_linearity=sigmoid \n",
      "\n",
      "max pairwise similarity:  many number 0.476001528389\n",
      "max pairwise similarity:  vehicle car 0.996467437451\n",
      "max pairwise similarity:  database database 0.999954602131\n",
      "sentence similarity score: \n",
      "0.824141189324\n",
      " \n",
      "max pairwise similarity:  many many 0.999954602131\n",
      "max pairwise similarity:  vehicle user 0.00163580676637\n",
      "max pairwise similarity:  database user 0.0196041467584\n",
      "sentence similarity score: \n",
      "0.340398185219\n"
     ]
    }
   ],
   "source": [
    "sent1 = 'how many vehicles do i have in my database'\n",
    "sent2 = 'what is the number of cars in the database'\n",
    "sent3 = 'how many users are in the base \\?'\n",
    "\n",
    "print 'With non_linearity=none \\n'\n",
    "print find_similarity(sent1, sent2, non_linearity='none')\n",
    "print ' ' \n",
    "print find_similarity(sent1, sent3, non_linearity='none')\n",
    "\n",
    "print ''\n",
    "\n",
    "print 'With non_linearity=sigmoid \\n'\n",
    "print find_similarity(sent1, sent2, non_linearity='sigmoid')\n",
    "print ' ' \n",
    "print find_similarity(sent1, sent3, non_linearity='sigmoid')"
   ]
  },
  {
   "cell_type": "markdown",
   "metadata": {},
   "source": [
    "## Conclusion\n",
    "\n",
    "Once tested on our test set, this method did not demonstrated better results than Similarity method # 1 (slightly less good results indeed). Nevertheless, it's flexibility may allow to find many ways to improve it. Adding a sigmoid like non linearity was one.  "
   ]
  },
  {
   "cell_type": "markdown",
   "metadata": {},
   "source": [
    "NB : For intent detections, it seems that there are some families of words for which it does not seem to work very well: for instance for months, names, ..."
   ]
  },
  {
   "cell_type": "code",
   "execution_count": 15,
   "metadata": {
    "collapsed": false
   },
   "outputs": [
    {
     "name": "stdout",
     "output_type": "stream",
     "text": [
      "0.0127895358008\n",
      "0.689945336356\n"
     ]
    }
   ],
   "source": [
    "print model.similarity('may', 'april')\n",
    "print model.similarity('november', 'december')"
   ]
  },
  {
   "cell_type": "code",
   "execution_count": 16,
   "metadata": {
    "collapsed": false
   },
   "outputs": [
    {
     "data": {
      "text/plain": [
       "0.12254906958201985"
      ]
     },
     "execution_count": 16,
     "metadata": {},
     "output_type": "execute_result"
    }
   ],
   "source": [
    "model.similarity('mike', 'peter')"
   ]
  },
  {
   "cell_type": "code",
   "execution_count": 17,
   "metadata": {
    "collapsed": true
   },
   "outputs": [],
   "source": [
    "def softmax(x):\n",
    "    \"\"\"Compute softmax values for each sets of scores in x.\"\"\"\n",
    "    return np.exp(x) / np.sum(np.exp(x), axis=0)"
   ]
  },
  {
   "cell_type": "code",
   "execution_count": 18,
   "metadata": {
    "collapsed": false
   },
   "outputs": [
    {
     "data": {
      "text/plain": [
       "array([ 0.00972544,  0.01378946,  0.00932016,  0.02029282,  0.01833201,\n",
       "        0.06138048,  0.05600813,  0.01979298,  0.01543204,  0.0471283 ,\n",
       "        0.04837809,  0.01248718,  0.00981319,  0.01436945,  0.01944977,\n",
       "        0.01483578,  0.0111566 ,  0.01417956,  0.01050989,  0.00979975,\n",
       "        0.0097692 ,  0.02029282,  0.02144948,  0.01735042,  0.01967041,\n",
       "        0.02074549,  0.26224043,  0.1434906 ,  0.04881005])"
      ]
     },
     "execution_count": 18,
     "metadata": {},
     "output_type": "execute_result"
    }
   ],
   "source": [
    "sim = [0.14084561111646157, 0.49000480176388517, 0.098279597802745949, 0.87636718444262163, 0.77474887667917247, 1.9831920193301404, 1.8915968941565289, 0.85142737808334035, 0.60254578744891174, 1.7189738506990833, 1.7451472221296067, 0.39080231407369825, 0.14982792277025214, 0.53120426944312138, 0.83393535517405293, 0.5631421643406227, 0.27813108743646103, 0.51790169481522708, 0.21841686393752385, 0.14845677438018878, 0.14533496099354068, 0.87636718444262163, 0.93180053767449078, 0.71971704321339025, 0.84521581884656505, 0.89842921578915258, 3.435361850031839, 2.8323696648698924, 1.7540362888168379]\n",
    "softmax(sim)"
   ]
  },
  {
   "cell_type": "code",
   "execution_count": 19,
   "metadata": {
    "collapsed": false
   },
   "outputs": [
    {
     "data": {
      "text/plain": [
       "1.0"
      ]
     },
     "execution_count": 19,
     "metadata": {},
     "output_type": "execute_result"
    }
   ],
   "source": [
    "sum(softmax(sim))"
   ]
  },
  {
   "cell_type": "code",
   "execution_count": 23,
   "metadata": {
    "collapsed": false
   },
   "outputs": [],
   "source": [
    "# load data \n",
    "import re\n",
    "import pandas as pd\n",
    "\n",
    "def clean_str(string):\n",
    "    \"\"\"\n",
    "    Tokenization/string cleaning strings\n",
    "    Original taken from https://github.com/yoonkim/CNN_sentence/blob/master/process_data.py\n",
    "    \"\"\"\n",
    "    string = re.sub(r\"[^A-Za-z0-9(),!?\\'\\`]\", \" \", string)\n",
    "    string = re.sub(r\"\\'s\", \" \\'s\", string)\n",
    "    string = re.sub(r\"\\'ve\", \" \\'ve\", string)\n",
    "    string = re.sub(r\"n\\'t\", \" n\\'t\", string)\n",
    "    string = re.sub(r\"\\'re\", \" \\'re\", string)\n",
    "    string = re.sub(r\"\\'d\", \" \\'d\", string)\n",
    "    string = re.sub(r\"\\'ll\", \" \\'ll\", string)\n",
    "    string = re.sub(r\",\", \" , \", string)\n",
    "    string = re.sub(r\"!\", \" ! \", string)\n",
    "    string = re.sub(r\"\\(\", \" \\( \", string)\n",
    "    string = re.sub(r\"\\)\", \" \\) \", string)\n",
    "    string = re.sub(r\"\\?\", \" \\? \", string)\n",
    "    string = re.sub(r\"\\s{2,}\", \" \", string)\n",
    "    return string.strip('\\n').strip().lower()\n",
    "\n",
    "def load_test_data(path, file_name):\n",
    "    df = pd.read_csv(path + file_name, sep='\\t', header=None)\n",
    "    df.columns = ['hardcoded_question', 'user_question']\n",
    "    for i in df.index:\n",
    "        df['hardcoded_question'][i] = clean_str(df['hardcoded_question'][i])\n",
    "        df['user_question'][i] = clean_str(df['user_question'][i])\n",
    "    return df "
   ]
  },
  {
   "cell_type": "code",
   "execution_count": 25,
   "metadata": {
    "collapsed": false
   },
   "outputs": [],
   "source": [
    "path = 'data2/'\n",
    "file_name = 'test_set2.tsv'\n",
    "data = load_test_data(path, file_name)\n",
    "questions = data['hardcoded_question'].tolist() + data['user_question'].tolist()"
   ]
  },
  {
   "cell_type": "code",
   "execution_count": 70,
   "metadata": {
    "collapsed": false
   },
   "outputs": [],
   "source": [
    "def embed_question(question):\n",
    "    question_tagged_nouns = filter_pos(question)\n",
    "    question_nouns = plural_to_singular(question_tagged_nouns)\n",
    "    embedding = np.zeros(model['random'].shape)\n",
    "    i=0.0\n",
    "    for word in question_nouns:\n",
    "        if word in model.vocab:\n",
    "            i+=1.0\n",
    "            embedding += model[word]\n",
    "    embedding /= i\n",
    "    return embedding"
   ]
  },
  {
   "cell_type": "code",
   "execution_count": 71,
   "metadata": {
    "collapsed": false
   },
   "outputs": [],
   "source": [
    "embedded_questions = [embed_question(q) for q in questions]"
   ]
  },
  {
   "cell_type": "code",
   "execution_count": 88,
   "metadata": {
    "collapsed": false
   },
   "outputs": [],
   "source": [
    "import csv\n",
    "\n",
    "with open ('data2/question_embeddings.tsv', 'w') as embeddings:\n",
    "    writer = csv.writer(embeddings, delimiter='\\t')\n",
    "    for eq in embedded_questions:\n",
    "        writer.writerow(eq)\n",
    "        \n",
    "with open ('data2/questions.tsv', 'w') as embeddings:\n",
    "    for q in questions:\n",
    "        embeddings.write(q+'\\n')"
   ]
  },
  {
   "cell_type": "code",
   "execution_count": null,
   "metadata": {
    "collapsed": true
   },
   "outputs": [],
   "source": []
  }
 ],
 "metadata": {
  "kernelspec": {
   "display_name": "Python 2",
   "language": "python",
   "name": "python2"
  },
  "language_info": {
   "codemirror_mode": {
    "name": "ipython",
    "version": 2
   },
   "file_extension": ".py",
   "mimetype": "text/x-python",
   "name": "python",
   "nbconvert_exporter": "python",
   "pygments_lexer": "ipython2",
   "version": "2.7.11"
  }
 },
 "nbformat": 4,
 "nbformat_minor": 0
}
