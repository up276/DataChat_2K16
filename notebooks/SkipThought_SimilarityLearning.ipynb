{
 "cells": [
  {
   "cell_type": "markdown",
   "metadata": {},
   "source": [
    "# Skip-thought vectors & Similarity Learning\n",
    "\n",
    "The goal of this notebook is to experiment with the opportunities that sentence2vec (here skip-thought) embedding offer for the task of question similarities . \n",
    "\n",
    "NB : You need to download the skip-thought code + the pre-trained models to run this ipynb (cf github rep link below)\n",
    "\n",
    "Usefull links:\n",
    "- Paper : https://arxiv.org/abs/1506.06726\n",
    "- Github rep : https://github.com/ryankiros/skip-thoughts\n",
    "        \n",
    "First, we use a naive approach in which we just use as is the sentence embeddings provided by the skip-thouth \n",
    "model, i.e. provided 2 questions, we compute their similarity as the cosine similarity between their vectorize representation.\n",
    "It turns out it does not work that well : 2 questions asked with a similar grammatical structure but different meaning will be attributed a relatively high score, so it does not allow to distinguish that from a semantically similar question asked in a grammatically different way. The reason for that seems to be that sentence2vec-like models do not only encode semantic but also sentences structure.\n",
    "\n",
    "To solve this issue, we try to learn a projection matrix in hope to learn which dimensions of the encoding would be \n",
    "more related to semantic and which one related to structure (this is part of similarity learning). \n",
    "I.e. instead of computing <question1, question2> to get a similarity score, we compute user_question.W.hc_question \n",
    "and try to supervisely learn W (with regularization, and initializing M as the identity matrix).\n",
    "\n",
    "For more on similarity learning, check wikipedia page :\n",
    "https://en.wikipedia.org/wiki/Similarity_learning"
   ]
  },
  {
   "cell_type": "code",
   "execution_count": 1,
   "metadata": {
    "collapsed": true
   },
   "outputs": [],
   "source": [
    "%load_ext autoreload\n",
    "%autoreload 2"
   ]
  },
  {
   "cell_type": "code",
   "execution_count": 2,
   "metadata": {
    "collapsed": false
   },
   "outputs": [
    {
     "name": "stdout",
     "output_type": "stream",
     "text": [
      "Couldn't import dot_parser, loading of dot files will not be possible.\n"
     ]
    }
   ],
   "source": [
    "import sys; sys.path.append('/Users/vincentchabot/Desktop/capstone/skip_thoughts/skip-thoughts-master/')\n",
    "import skipthoughts\n",
    "import numpy as np"
   ]
  },
  {
   "cell_type": "code",
   "execution_count": 3,
   "metadata": {
    "collapsed": false
   },
   "outputs": [
    {
     "name": "stdout",
     "output_type": "stream",
     "text": [
      "Loading model parameters...\n",
      "Compiling encoders...\n",
      "Loading tables...\n",
      "Packing up...\n"
     ]
    }
   ],
   "source": [
    "# make sure to download & provide the correct path to your /models repository in skipthoughts.py\n",
    "model = skipthoughts.load_model()"
   ]
  },
  {
   "cell_type": "markdown",
   "metadata": {},
   "source": [
    "## #1 Similarity on sentences skip-thought embeddings"
   ]
  },
  {
   "cell_type": "code",
   "execution_count": 4,
   "metadata": {
    "collapsed": true
   },
   "outputs": [],
   "source": [
    "# Toy example\n",
    "X = ['what is the number of cars in the base ?',\n",
    "     'how many vehicles do i have in my database ?',\n",
    "     'what is the number of users in the base ?']"
   ]
  },
  {
   "cell_type": "code",
   "execution_count": 5,
   "metadata": {
    "collapsed": true
   },
   "outputs": [],
   "source": [
    "# Create array of the embeded sentences\n",
    "vectors_X = skipthoughts.encode(model, X, verbose=False)"
   ]
  },
  {
   "cell_type": "code",
   "execution_count": 6,
   "metadata": {
    "collapsed": false
   },
   "outputs": [
    {
     "name": "stdout",
     "output_type": "stream",
     "text": [
      "sentence_cosine_sim between :\n",
      "\n",
      "what is the number of cars in the base ?\n",
      "and\n",
      "how many vehicles do i have in my database ?\n",
      "similarity:  0.819562\n",
      "\n",
      "sentence_cosine_sim between :\n",
      "\n",
      "what is the number of cars in the base ?\n",
      "and\n",
      "what is the number of users in the base ?\n",
      "similarity:  0.95662\n"
     ]
    }
   ],
   "source": [
    "def sentence_cosine_sim(vectors, sent1_index, sent2_index):\n",
    "    '''\n",
    "    find pairwise cosine similarity between sentence1 and sentence2\n",
    "    '''\n",
    "    s1, s2 = vectors[sent1_index], vectors[sent2_index]\n",
    "    cosine_similarity = np.dot(s1, s2)/(np.linalg.norm(s1) * np.linalg.norm(s2))\n",
    "    return cosine_similarity\n",
    "\n",
    "print 'sentence_cosine_sim between :\\n'\n",
    "print X[0] \n",
    "print 'and'\n",
    "print X[1]\n",
    "print \"similarity: \", sentence_cosine_sim(vectors_X, 0, 1)\n",
    "\n",
    "print '\\nsentence_cosine_sim between :\\n'\n",
    "print X[0] \n",
    "print 'and'\n",
    "print X[2]\n",
    "print \"similarity: \", sentence_cosine_sim(vectors_X, 0, 2)"
   ]
  },
  {
   "cell_type": "markdown",
   "metadata": {},
   "source": [
    "##### --> 2 questions asked with a similar grammatical structure but different meaning will be attributed a relatively high score, so it does not allow to distinguish that from a semantically similar question asked in a grammatically different way."
   ]
  },
  {
   "cell_type": "markdown",
   "metadata": {},
   "source": [
    "## #2 Similarity learning on top of skip-thought embeddings"
   ]
  },
  {
   "cell_type": "markdown",
   "metadata": {},
   "source": [
    "#### (a) Load and clean the data, create train/test sets "
   ]
  },
  {
   "cell_type": "code",
   "execution_count": 7,
   "metadata": {
    "collapsed": false
   },
   "outputs": [
    {
     "name": "stdout",
     "output_type": "stream",
     "text": [
      "loading data...\n",
      "\n",
      "loading hardcoded_question_set...\n",
      "\n",
      "loading test set...\n",
      "\n"
     ]
    }
   ],
   "source": [
    "import re\n",
    "import pandas as pd\n",
    "\n",
    "def clean_str(string):\n",
    "    \"\"\"\n",
    "    Tokenization/string cleaning strings\n",
    "    Original taken from https://github.com/yoonkim/CNN_sentence/blob/master/process_data.py\n",
    "    \"\"\"\n",
    "    string = re.sub(r\"[^A-Za-z0-9(),!?\\'\\`]\", \" \", string)\n",
    "    string = re.sub(r\"\\'s\", \" \\'s\", string)\n",
    "    string = re.sub(r\"\\'ve\", \" \\'ve\", string)\n",
    "    string = re.sub(r\"n\\'t\", \" n\\'t\", string)\n",
    "    string = re.sub(r\"\\'re\", \" \\'re\", string)\n",
    "    string = re.sub(r\"\\'d\", \" \\'d\", string)\n",
    "    string = re.sub(r\"\\'ll\", \" \\'ll\", string)\n",
    "    string = re.sub(r\",\", \" , \", string)\n",
    "    string = re.sub(r\"!\", \" ! \", string)\n",
    "    string = re.sub(r\"\\(\", \" \\( \", string)\n",
    "    string = re.sub(r\"\\)\", \" \\) \", string)\n",
    "    string = re.sub(r\"\\?\", \" \\? \", string)\n",
    "    string = re.sub(r\"\\s{2,}\", \" \", string)\n",
    "    return string.strip('\\n').strip().lower()\n",
    "\n",
    "def load_data(path, file_name):\n",
    "    df = pd.read_csv(path + file_name, sep='\\t', header=None)\n",
    "    df.columns = ['hardcoded_question']\n",
    "    for i in df.index:\n",
    "        df['hardcoded_question'][i] = clean_str(df['hardcoded_question'][i])\n",
    "    return df\n",
    "\n",
    "def load_test_data(path, file_name):\n",
    "    df = pd.read_csv(path + file_name, sep='\\t', header=None)\n",
    "    df.columns = ['hardcoded_question', 'user_question']\n",
    "    for i in df.index:\n",
    "        df['hardcoded_question'][i] = clean_str(df['hardcoded_question'][i])\n",
    "        df['user_question'][i] = clean_str(df['user_question'][i])\n",
    "    return df \n",
    "\n",
    "# upload data\n",
    "print \"loading data...\\n\"\n",
    "print \"loading hardcoded_question_set...\\n\"\n",
    "path_train = '/Users/vincentchabot/Desktop/capstone/Data2/'\n",
    "file_name_train = 'test2.txt' \n",
    "hardcoded_question_set = load_data(path_train, file_name_train)\n",
    "print \"loading test set...\\n\"\n",
    "path_test = '/Users/vincentchabot/Desktop/capstone/Data2/'\n",
    "file_name_test = 'test_set2.tsv' \n",
    "test_set = load_test_data(path_test, file_name_test)"
   ]
  },
  {
   "cell_type": "code",
   "execution_count": 8,
   "metadata": {
    "collapsed": false
   },
   "outputs": [
    {
     "data": {
      "text/html": [
       "<div>\n",
       "<table border=\"1\" class=\"dataframe\">\n",
       "  <thead>\n",
       "    <tr style=\"text-align: right;\">\n",
       "      <th></th>\n",
       "      <th>hardcoded_question</th>\n",
       "      <th>user_question</th>\n",
       "    </tr>\n",
       "  </thead>\n",
       "  <tbody>\n",
       "    <tr>\n",
       "      <th>0</th>\n",
       "      <td>do i have risky customers \\?</td>\n",
       "      <td>what are the clients at risk \\?</td>\n",
       "    </tr>\n",
       "    <tr>\n",
       "      <th>1</th>\n",
       "      <td>how can i change my password \\?</td>\n",
       "      <td>i lost my password how can i have a new one \\?</td>\n",
       "    </tr>\n",
       "    <tr>\n",
       "      <th>2</th>\n",
       "      <td>are there blocked invoices \\?</td>\n",
       "      <td>how many invoices are blocked \\?</td>\n",
       "    </tr>\n",
       "    <tr>\n",
       "      <th>3</th>\n",
       "      <td>how many vehicles do i have in my database \\?</td>\n",
       "      <td>what is the number of cars in the base \\?</td>\n",
       "    </tr>\n",
       "    <tr>\n",
       "      <th>4</th>\n",
       "      <td>does snow fall in egypt \\?</td>\n",
       "      <td>is there snow in egypt \\?</td>\n",
       "    </tr>\n",
       "  </tbody>\n",
       "</table>\n",
       "</div>"
      ],
      "text/plain": [
       "                              hardcoded_question  \\\n",
       "0                   do i have risky customers \\?   \n",
       "1                how can i change my password \\?   \n",
       "2                  are there blocked invoices \\?   \n",
       "3  how many vehicles do i have in my database \\?   \n",
       "4                     does snow fall in egypt \\?   \n",
       "\n",
       "                                    user_question  \n",
       "0                 what are the clients at risk \\?  \n",
       "1  i lost my password how can i have a new one \\?  \n",
       "2                how many invoices are blocked \\?  \n",
       "3       what is the number of cars in the base \\?  \n",
       "4                       is there snow in egypt \\?  "
      ]
     },
     "execution_count": 8,
     "metadata": {},
     "output_type": "execute_result"
    }
   ],
   "source": [
    "test_set.head()"
   ]
  },
  {
   "cell_type": "code",
   "execution_count": 9,
   "metadata": {
    "collapsed": false
   },
   "outputs": [],
   "source": [
    "train = test_set[0:19]\n",
    "test = test_set[20:27]\n",
    "\n",
    "# reindex test dataframe\n",
    "test.index = range(7)"
   ]
  },
  {
   "cell_type": "code",
   "execution_count": 10,
   "metadata": {
    "collapsed": false
   },
   "outputs": [],
   "source": [
    "# Here, we create a hardcoded_question / user_question pair set\n",
    "# we create all the possible question pairs in order to have as many pairs as possible to train on.\n",
    "# For each hardcoded question, only 1 pair will be correct and all the other will be false.\n",
    "def create_sentence_pairset(data):\n",
    "    '''\n",
    "    Output =  {(hardcoded_question, user_question) : ((hardcoded_question_vector, user_question_vector, correct))}\n",
    "    with correct being 1 if the user question corresponds to the hardcoded question, 0 otherwise\n",
    "    '''\n",
    "    sentence_pairset = {}\n",
    "    hqs = data['hardcoded_question'].tolist()\n",
    "    uqs = data['user_question'].tolist()\n",
    "    hqs_vectors = skipthoughts.encode(model, hqs, verbose=False)\n",
    "    uqs_vectors = skipthoughts.encode(model, uqs, verbose=False)\n",
    "    # Normalize\n",
    "    for i in range(hqs_vectors.shape[0]):\n",
    "        hqs_vectors[i] /= np.linalg.norm(hqs_vectors[i])\n",
    "        uqs_vectors[i] /= np.linalg.norm(hqs_vectors[i])\n",
    "    for hq in hqs:\n",
    "        for uq in uqs:\n",
    "            if hqs.index(hq) == uqs.index(uq):\n",
    "                sentence_pairset[(hq,uq)] = (hqs_vectors[hqs.index(hq)], uqs_vectors[uqs.index(uq)], 1.0)\n",
    "            else:\n",
    "                sentence_pairset[(hq,uq)] = (hqs_vectors[hqs.index(hq)], uqs_vectors[uqs.index(uq)], 0.0)\n",
    "    return sentence_pairset\n",
    "\n",
    "train_sentence_pairset = create_sentence_pairset(train)\n",
    "test_sentence_pairset = create_sentence_pairset(test)"
   ]
  },
  {
   "cell_type": "markdown",
   "metadata": {},
   "source": [
    "#### (b) Learning the projection matrix W"
   ]
  },
  {
   "cell_type": "code",
   "execution_count": 38,
   "metadata": {
    "collapsed": false
   },
   "outputs": [],
   "source": [
    "from random import randint\n",
    "\n",
    "def compute_square_loss(sentence_pairset, Lambda, W, embedding_length):\n",
    "    loss = 0\n",
    "    values_computed = 0.0\n",
    "    for value in sentence_pairset.itervalues():\n",
    "        \n",
    "        # Since there are way more false pairs than true pairs, we can balance this ratio by taking only \n",
    "        # 1 false pair every x false pairs. Otherwise, the final W matrix will be biaised toward false pairs\n",
    "        # and will only produce very small scores\n",
    "        compute_gradient = True\n",
    "        '''\n",
    "        correct = value[2]\n",
    "        if correct == 1.0:\n",
    "            compute_gradient = True\n",
    "        elif correct == 0.0:\n",
    "            if randint(0,9)==0:\n",
    "                compute_gradient = True\n",
    "            else:\n",
    "                compute_gradient = False\n",
    "        '''\n",
    "        \n",
    "        if compute_gradient: \n",
    "            hq_vector = value[0].reshape((embedding_length,1))\n",
    "            uq_vector = value[1].reshape((embedding_length,1))\n",
    "            correct = value[2]\n",
    "            hq_vectorT = np.transpose(hq_vector)\n",
    "            uq_vectorT = np.transpose(uq_vector)\n",
    "            loss += np.linalg.norm(correct - np.dot(hq_vectorT, np.dot(W,uq_vector)))\n",
    "            values_computed += 1.0\n",
    "            \n",
    "    loss /= 2*values_computed\n",
    "    loss += Lambda*(np.linalg.norm(W))**2\n",
    "    return loss\n",
    "\n",
    "\n",
    "def compute_regularized_square_loss_gradient(sentence_pairset, embedding_length, Lambda, W):\n",
    "    \"\"\"\n",
    "    Compute the gradient of L2-regularized square loss function \n",
    "    \"\"\"\n",
    "    gradient = np.zeros((embedding_length, embedding_length))\n",
    "    values_computed = 0.0\n",
    "    for value in sentence_pairset.itervalues():\n",
    "        \n",
    "        # Since there are way more false pairs than true pairs, we can balance this ratio by taking only \n",
    "        # 1 false pair every x false pairs. Otherwise, the final W matrix will be biaised toward false pairs\n",
    "        # and will only produce very small scores\n",
    "        compute_gradient = True\n",
    "        '''\n",
    "        correct = value[2]\n",
    "        if correct == 1.0:\n",
    "            compute_gradient = True\n",
    "        elif correct == 0.0:\n",
    "            if randint(0,9)==0:\n",
    "                compute_gradient = True\n",
    "            else:\n",
    "                compute_gradient = False\n",
    "        '''\n",
    "        \n",
    "        if compute_gradient: \n",
    "            hq_vector = value[0].reshape((embedding_length,1))\n",
    "            uq_vector = value[1].reshape((embedding_length,1))\n",
    "            correct = value[2]\n",
    "            hq_vectorT = np.transpose(hq_vector)\n",
    "            uq_vectorT = np.transpose(uq_vector)\n",
    "            gradient += - np.dot(hq_vector, uq_vectorT) * (correct - np.dot(hq_vectorT, np.dot(W,uq_vector)))\n",
    "            values_computed += 1.0\n",
    "        \n",
    "    gradient /= values_computed\n",
    "    gradient += 2*Lambda*W\n",
    "    return gradient\n",
    "\n",
    "\n",
    "def regularized_grad_descent(sentence_pairset, alpha=0.1, Lambda=10, num_iter=10):\n",
    "    \"\"\"\n",
    "    Args:\n",
    "        sentence_pairset = sentence pairs + correct value (1 if they sementically correspond, 0 otherwise)\n",
    "        alpha - step size in gradient descent\n",
    "        Lambda - the regularization coefficient\n",
    "        num_iter - number of iterations to run \n",
    "        \n",
    "    Returns:\n",
    "        W_hist - the history of parameter vector, 2D numpy array of size (num_iter+1, num_features) \n",
    "        loss_hist - the history of regularized loss value, 1D numpy array\n",
    "    \"\"\"\n",
    "    # initialize W as Identity matrix\n",
    "    embedding_length = skipthoughts.encode(model, ['random'], verbose=False).shape[1]\n",
    "    W = np.identity(embedding_length)\n",
    "    \n",
    "    # initialize W_hist and loss_hist\n",
    "    W_hist = np.zeros((num_iter+1, embedding_length, embedding_length)) \n",
    "    loss_hist = np.zeros(num_iter+1)  \n",
    "    W_hist[0]=W\n",
    "    loss_hist[0]=compute_square_loss(sentence_pairset, Lambda, W, embedding_length)\n",
    "    \n",
    "    for i in range(1,num_iter+1):\n",
    "        print 'iteration number ', i\n",
    "        W = W - alpha*compute_regularized_square_loss_gradient(sentence_pairset, embedding_length, Lambda, W)\n",
    "        # Normalize\n",
    "        W_norm = np.linalg.norm(W)/np.linalg.norm(W_hist[0])\n",
    "        W = W/W_norm\n",
    "        W_hist[i]=W\n",
    "        loss_hist[i]=compute_square_loss(sentence_pairset, Lambda, W, embedding_length)\n",
    "    return W_hist, loss_hist"
   ]
  },
  {
   "cell_type": "code",
   "execution_count": 39,
   "metadata": {
    "collapsed": false
   },
   "outputs": [
    {
     "name": "stdout",
     "output_type": "stream",
     "text": [
      "iteration number  1\n",
      "iteration number  2\n",
      "iteration number  3\n",
      "iteration number  4\n",
      "iteration number  5\n",
      "iteration number  6\n",
      "iteration number  7\n",
      "iteration number  8\n",
      "iteration number  9\n",
      "iteration number  10\n",
      "iteration number  11\n",
      "iteration number  12\n",
      "iteration number  13\n",
      "iteration number  14\n",
      "iteration number  15\n"
     ]
    }
   ],
   "source": [
    "# Learn W\n",
    "# Multiplying num_iter by 15 because we are only taking 1 false pair every 15 false pairs in training \n",
    "n_iter = 15\n",
    "alph = 0.1\n",
    "W_hist, loss_hist = regularized_grad_descent(train_sentence_pairset, alpha=alph, Lambda=1, num_iter=n_iter)"
   ]
  },
  {
   "cell_type": "markdown",
   "metadata": {},
   "source": [
    "##### --> Let's check how the learning went"
   ]
  },
  {
   "cell_type": "code",
   "execution_count": 40,
   "metadata": {
    "collapsed": false
   },
   "outputs": [],
   "source": [
    "def compute_test_loss(sentence_pairset, W_hist, Lambda, num_iter):\n",
    "    #Initialize loss_hist\n",
    "    test_loss_hist = np.zeros(num_iter+1)   \n",
    "    for i in range(num_iter+1):\n",
    "        test_loss_hist[i]=compute_square_loss(sentence_pairset, Lambda, W_hist[i], embedding_length)\n",
    "    return test_loss_hist\n",
    "\n",
    "n_iter = 15\n",
    "embedding_length = skipthoughts.encode(model, ['random'], verbose=False).shape[1]\n",
    "test_loss_hist = compute_test_loss(test_sentence_pairset, W_hist, Lambda=1, num_iter=n_iter)"
   ]
  },
  {
   "cell_type": "code",
   "execution_count": 41,
   "metadata": {
    "collapsed": false
   },
   "outputs": [
    {
     "data": {
      "image/png": "[encoded data removed]",
      "text/plain": [
       "<matplotlib.figure.Figure at 0x1110e6690>"
      ]
     },
     "metadata": {},
     "output_type": "display_data"
    }
   ],
   "source": [
    "%matplotlib inline\n",
    "import matplotlib.pyplot as plt\n",
    "\n",
    "plt.plot(loss_hist, label='train loss')\n",
    "plt.plot(test_loss_hist, label='validation loss')\n",
    "\n",
    "plt.legend()\n",
    "plt.xlabel('number of iterations step')\n",
    "plt.ylabel('loss')\n",
    "plt.show()"
   ]
  },
  {
   "cell_type": "markdown",
   "metadata": {},
   "source": [
    "From the loss plot, the learning seems to work"
   ]
  },
  {
   "cell_type": "markdown",
   "metadata": {},
   "source": [
    "##### (c) Let's see the results on the toy example from the begining"
   ]
  },
  {
   "cell_type": "code",
   "execution_count": 47,
   "metadata": {
    "collapsed": false
   },
   "outputs": [],
   "source": [
    "X = ['what is the number of cars in the base ?',\n",
    "     'how many vehicles do i have in my database ?',\n",
    "     'what is the number of users in the base ?']\n",
    "\n",
    "vectors_X = skipthoughts.encode(model, X, verbose=False)\n",
    "\n",
    "def sentence_cosine_sim_with_W(vectors, sent1_index, sent2_index, W):\n",
    "    '''\n",
    "    find pairwise cosine similarity between sentence1 and sentence2\n",
    "    '''\n",
    "    # first, embed sentences\n",
    "    s1, s2 = vectors[sent1_index], vectors[sent2_index]\n",
    "    # second, compute cosine similarity\n",
    "    cosine_similarity = np.dot(np.transpose(s1), np.dot(W,s2))/(np.linalg.norm(s1) * np.linalg.norm(s2) )\n",
    "    return cosine_similarity"
   ]
  },
  {
   "cell_type": "code",
   "execution_count": 48,
   "metadata": {
    "collapsed": false
   },
   "outputs": [
    {
     "name": "stdout",
     "output_type": "stream",
     "text": [
      "sentence_cosine_sim between :\n",
      "\n",
      "what is the number of cars in the base ?\n",
      "and\n",
      "how many vehicles do i have in my database ?\n",
      "similarity:  0.161234690071\n",
      "\n",
      "sentence_cosine_sim between :\n",
      "\n",
      "what is the number of cars in the base ?\n",
      "and\n",
      "what is the number of users in the base ?\n",
      "similarity:  0.263535810462\n"
     ]
    }
   ],
   "source": [
    "print 'sentence_cosine_sim between :\\n'\n",
    "print X[0] \n",
    "print 'and'\n",
    "print X[1]\n",
    "print \"similarity: \", sentence_cosine_sim_with_W(vectors_X, 0, 1, W_hist[-1])\n",
    "\n",
    "print '\\nsentence_cosine_sim between :\\n'\n",
    "print X[0] \n",
    "print 'and'\n",
    "print X[2]\n",
    "print \"similarity: \", sentence_cosine_sim_with_W(vectors_X, 0, 2, W_hist[-1])"
   ]
  },
  {
   "cell_type": "markdown",
   "metadata": {},
   "source": [
    "###### --> We observe that scores are both lower but the score for a true pair is still not greater than the score for a false pair."
   ]
  },
  {
   "cell_type": "markdown",
   "metadata": {
    "collapsed": true
   },
   "source": [
    "## Conclusion\n",
    "\n",
    "1) The fact that from the very little available data we had we constructed a data set that has 26 times more false pairs than true pairs, the framework learnt a W that tends to lower all the scores and tends to predict false all the time. Using the AUC as metric should give better results.\n",
    "\n",
    "2) Learning a 3800x3800 matrix from 20 examples is of course way too ambitious. But at least the similarity learning framework we've built shows that it is possible to learn such a projection matrix using sentence embedding like skip-thought and might be reuse once more data is available. Furthermore, such a framework could also be used on other sentence embeddings we built otherwise, like the one using word2vec embeddings + CBOW."
   ]
  },
  {
   "cell_type": "code",
   "execution_count": null,
   "metadata": {
    "collapsed": true
   },
   "outputs": [],
   "source": []
  }
 ],
 "metadata": {
  "kernelspec": {
   "display_name": "Python 2",
   "language": "python",
   "name": "python2"
  },
  "language_info": {
   "codemirror_mode": {
    "name": "ipython",
    "version": 2
   },
   "file_extension": ".py",
   "mimetype": "text/x-python",
   "name": "python",
   "nbconvert_exporter": "python",
   "pygments_lexer": "ipython2",
   "version": "2.7.11"
  }
 },
 "nbformat": 4,
 "nbformat_minor": 0
}
