{
 "cells": [
  {
   "cell_type": "code",
   "execution_count": 1,
   "metadata": {
    "collapsed": false
   },
   "outputs": [
    {
     "name": "stdout",
     "output_type": "stream",
     "text": [
      "Couldn't import dot_parser, loading of dot files will not be possible.\n"
     ]
    }
   ],
   "source": [
    "from __future__ import division, unicode_literals\n",
    "from textblob import TextBlob as tb\n",
    "import numpy as np\n",
    "import gensim"
   ]
  },
  {
   "cell_type": "code",
   "execution_count": 2,
   "metadata": {
    "collapsed": false
   },
   "outputs": [
    {
     "name": "stdout",
     "output_type": "stream",
     "text": [
      "loading data...\n",
      "\n",
      "loading hardcoded_question_set...\n",
      "\n",
      "loading test set...\n",
      "\n"
     ]
    }
   ],
   "source": [
    "import re\n",
    "import pandas as pd\n",
    "\n",
    "def clean_str(string):\n",
    "    \"\"\"\n",
    "    Tokenization/string cleaning strings\n",
    "    Original taken from https://github.com/yoonkim/CNN_sentence/blob/master/process_data.py\n",
    "    \"\"\"\n",
    "    string = re.sub(r\"[^A-Za-z0-9(),!?\\'\\`]\", \" \", string)\n",
    "    string = re.sub(r\"\\'s\", \" \\'s\", string)\n",
    "    string = re.sub(r\"\\'ve\", \" \\'ve\", string)\n",
    "    string = re.sub(r\"n\\'t\", \" n\\'t\", string)\n",
    "    string = re.sub(r\"\\'re\", \" \\'re\", string)\n",
    "    string = re.sub(r\"\\'d\", \" \\'d\", string)\n",
    "    string = re.sub(r\"\\'ll\", \" \\'ll\", string)\n",
    "    string = re.sub(r\",\", \" , \", string)\n",
    "    string = re.sub(r\"!\", \" ! \", string)\n",
    "    string = re.sub(r\"\\(\", \" \\( \", string)\n",
    "    string = re.sub(r\"\\)\", \" \\) \", string)\n",
    "    string = re.sub(r\"\\?\", \" \\? \", string)\n",
    "    string = re.sub(r\"\\s{2,}\", \" \", string)\n",
    "    return string.strip('\\n').strip().lower()\n",
    "\n",
    "def load_data(path, file_name):\n",
    "    df = pd.read_csv(path + file_name, sep='\\t', header=None)\n",
    "    df.columns = ['hardcoded_question']\n",
    "    for i in df.index:\n",
    "        df['hardcoded_question'][i] = clean_str(df['hardcoded_question'][i])\n",
    "    return df\n",
    "\n",
    "def load_test_data(path, file_name):\n",
    "    df = pd.read_csv(path + file_name, sep='\\t', header=None)\n",
    "    df.columns = ['hardcoded_question', 'user_question']\n",
    "    for i in df.index:\n",
    "        df['hardcoded_question'][i] = clean_str(df['hardcoded_question'][i])\n",
    "        df['user_question'][i] = clean_str(df['user_question'][i])\n",
    "    return df \n",
    "\n",
    "# upload data\n",
    "print \"loading data...\\n\"\n",
    "print \"loading hardcoded_question_set...\\n\"\n",
    "path_train = '/Users/vincentchabot/Desktop/capstone/Data2/'\n",
    "file_name_train = 'test2.txt' \n",
    "hardcoded_question_set = load_data(path_train, file_name_train)\n",
    "print \"loading test set...\\n\"\n",
    "path_test = '/Users/vincentchabot/Desktop/capstone/Data2/'\n",
    "file_name_test = 'test_set2.tsv' \n",
    "test_set = load_test_data(path_test, file_name_test)"
   ]
  },
  {
   "cell_type": "code",
   "execution_count": 3,
   "metadata": {
    "collapsed": true
   },
   "outputs": [],
   "source": [
    "model = gensim.models.Word2Vec.load_word2vec_format('model/GoogleNews-vectors-negative300.bin', binary=True) \n",
    "num_features = 300 "
   ]
  },
  {
   "cell_type": "code",
   "execution_count": 4,
   "metadata": {
    "collapsed": true
   },
   "outputs": [],
   "source": [
    "import nltk\n",
    "import inflect\n",
    "\n",
    "keep_pos = ['NN', 'NNS']\n",
    "\n",
    "def CBOW(question):\n",
    "    feature_vec = np.zeros((num_features), dtype=\"float32\")\n",
    "    words_embedded = 0\n",
    "    for word in question:\n",
    "        word_vec = model[word]\n",
    "        feature_vec += word_vec\n",
    "        words_embedded += 1\n",
    "    feature_vec /= float(words_embedded)\n",
    "    return feature_vec\n",
    "\n",
    "def keep_nouns(question):\n",
    "    '''\n",
    "    From a sentence, return list of tuples [(word, POS)] if POS in keep_pos (by default : noun(s))\n",
    "    '''\n",
    "    question_tokens = nltk.word_tokenize(question[0])\n",
    "    question_tagged = nltk.pos_tag(question_tokens)\n",
    "    question_tagged_nouns = [question_tagged[i] \n",
    "                            for i in range(len(question_tagged)) \n",
    "                            if question_tagged[i][1] \n",
    "                            in keep_pos]\n",
    "    return question_tagged_nouns\n",
    "\n",
    "def plural_to_singular(tagged_nouns):\n",
    "    '''\n",
    "    Putting all nouns to singular form (because similarity(A,A') > similarity(A,As'))\n",
    "    '''\n",
    "    p = inflect.engine()\n",
    "\n",
    "    question_nouns = []\n",
    "    for nouns in tagged_nouns:\n",
    "        if nouns[1] != 'NNS':\n",
    "            question_nouns.append(nouns[0]) \n",
    "        else:\n",
    "            if p.singular_noun(nouns[0]) != False:\n",
    "                question_nouns.append(p.singular_noun(nouns[0]))\n",
    "    return question_nouns\n",
    "\n",
    "def generate_embedding_array(sentence):\n",
    "    pos = plural_to_singular(keep_nouns(sentence))\n",
    "    X = np.zeros((len(pos)+1, num_features))\n",
    "    X[0] = CBOW(pos)\n",
    "    i = 1\n",
    "    for word in pos:\n",
    "        X[i] = model[word]\n",
    "        i +=1\n",
    "    return X"
   ]
  },
  {
   "cell_type": "code",
   "execution_count": 5,
   "metadata": {
    "collapsed": false
   },
   "outputs": [],
   "source": [
    "s1 = ['what is the number of users in the database']\n",
    "s2 = ['what is the number of customers in the database']\n",
    "s3 = ['what is the number of cars in the database']\n",
    "\n",
    "sentences = [s1[0],s2[0],s3[0]]\n",
    "\n",
    "X1 = generate_embedding_array(s1)\n",
    "X2 = generate_embedding_array(s2)\n",
    "X3 = generate_embedding_array(s3)\n",
    "X = np.concatenate((X1,X2,X3))"
   ]
  },
  {
   "cell_type": "code",
   "execution_count": 6,
   "metadata": {
    "collapsed": false
   },
   "outputs": [
    {
     "data": {
      "text/plain": [
       "(12, 300)"
      ]
     },
     "execution_count": 6,
     "metadata": {},
     "output_type": "execute_result"
    }
   ],
   "source": [
    "X.shape"
   ]
  },
  {
   "cell_type": "code",
   "execution_count": 7,
   "metadata": {
    "collapsed": false
   },
   "outputs": [],
   "source": [
    "from sklearn.decomposition import PCA\n",
    "pca = PCA(n_components = 2)\n",
    "X_reduced = pca.fit_transform(X)\n",
    "X1_reduced = pca.transform(X1)\n",
    "X2_reduced = pca.transform(X2)\n",
    "X3_reduced = pca.transform(X3)"
   ]
  },
  {
   "cell_type": "code",
   "execution_count": 13,
   "metadata": {
    "collapsed": false
   },
   "outputs": [],
   "source": [
    "X_reduced *= 10 \n",
    "X1_reduced *= 10 \n",
    "X2_reduced *= 10 \n",
    "X3_reduced *= 10 "
   ]
  },
  {
   "cell_type": "code",
   "execution_count": 16,
   "metadata": {
    "collapsed": false
   },
   "outputs": [
    {
     "data": {
      "image/png": "[encoded data removed]",
      "text/plain": [
       "<matplotlib.figure.Figure at 0x2670e29d0>"
      ]
     },
     "metadata": {},
     "output_type": "display_data"
    }
   ],
   "source": [
    "import matplotlib.pyplot as plt\n",
    "% matplotlib inline\n",
    "# np.savetxt(os.path.join(FLAGS.checkpoint_path,'tsne_proj.txt'),tsne_data)\n",
    "\n",
    "fig = plt.figure()\n",
    "fig.suptitle('CBOW embedding visualization', fontsize=14, fontweight='bold')\n",
    "ax = fig.add_subplot(111)\n",
    "\n",
    "plt.scatter(X1_reduced[2,0],X1_reduced[2,1],color='red')\n",
    "ax.annotate('user', xy=(X1_reduced[2,0],X1_reduced[2,1]), xytext=(X1_reduced[2,0]-10,X1_reduced[2,1]+5))\n",
    "plt.scatter(X2_reduced[2,0],X2_reduced[2,1],color='red')\n",
    "ax.annotate('customer', xy=(X2_reduced[2,0],X2_reduced[2,1]), xytext=(X2_reduced[2,0]-10,X2_reduced[2,1]+5))\n",
    "plt.scatter(X3_reduced[2,0],X3_reduced[2,1],color='red')\n",
    "ax.annotate('car', xy=(X3_reduced[2,0],X3_reduced[2,1]), xytext=(X3_reduced[2,0]-5,X3_reduced[2,1]-10))\n",
    "plt.scatter(X3_reduced[1,0],X3_reduced[1,1],color='red')\n",
    "ax.annotate('number', xy=(X3_reduced[2,0],X3_reduced[2,1]), xytext=(X3_reduced[1,0]-10,X3_reduced[1,1]+5))\n",
    "plt.scatter(X3_reduced[3,0],X3_reduced[3,1],color='red')\n",
    "ax.annotate('database', xy=(X3_reduced[3,0],X3_reduced[3,1]), xytext=(X3_reduced[3,0]-10,X3_reduced[3,1]+5))\n",
    "\n",
    "plt.scatter(X1_reduced[0,0],X1_reduced[0,1],color='red')\n",
    "ax.annotate(s1[0], xy=(X1_reduced[0,0],X1_reduced[0,1]), xytext=(X1_reduced[0,0]-75,X1_reduced[0,1]+5))\n",
    "plt.scatter(X2_reduced[0,0],X2_reduced[0,1],color='red')\n",
    "ax.annotate(s2[0], xy=(X2_reduced[0,0],X2_reduced[0,1]), xytext=(X2_reduced[0,0]-75,X2_reduced[0,1]+1))\n",
    "plt.scatter(X3_reduced[0,0],X3_reduced[0,1],color='red')\n",
    "ax.annotate(s3[0], xy=(X3_reduced[0,0],X3_reduced[0,1]), xytext=(X3_reduced[0,0]-75,X3_reduced[0,1]+5))\n",
    "\n",
    "#plt.plot([X1_reduced[0,0], X2_reduced[0,0], X3_reduced[0,0]],[X1_reduced[0,1],X2_reduced[0,1],X3_reduced[0,1]],'ro', color='black')\n",
    "# plt.savefig(os.path.join(FLAGS.checkpoint_path,'tsne.png'))\n",
    "plt.axis([-200, 300, -200, 300])\n",
    "\n",
    "plt.show()"
   ]
  },
  {
   "cell_type": "code",
   "execution_count": 12,
   "metadata": {
    "collapsed": false
   },
   "outputs": [
    {
     "data": {
      "image/png": "[encoded data removed]",
      "text/plain": [
       "<matplotlib.figure.Figure at 0x26696fdd0>"
      ]
     },
     "metadata": {},
     "output_type": "display_data"
    }
   ],
   "source": [
    "plt.plot([1,2,3,4], [1,4,9,16], 'ro')\n",
    "plt.axis([0, 6, 0, 20])\n",
    "plt.show()"
   ]
  },
  {
   "cell_type": "code",
   "execution_count": null,
   "metadata": {
    "collapsed": false
   },
   "outputs": [],
   "source": [
    "#from sklearn.manifold import TSNE\n",
    "#import matplotlib\n",
    "\n",
    "#tsne = TSNE()\n",
    "#tsne.fit(X_reduced)\n",
    "#X1_tsne = tsne.tansform(X1)\n",
    "#X2_tsne = tsne.tansform(X2)\n",
    "#X3_tsne = tsne.tansform(X3)"
   ]
  },
  {
   "cell_type": "code",
   "execution_count": null,
   "metadata": {
    "collapsed": true
   },
   "outputs": [],
   "source": [
    "print X1_tsne.shape\n",
    "\n",
    "# np.savetxt(os.path.join(FLAGS.checkpoint_path,'tsne_proj.txt'),tsne_data)\n",
    "#plt.scatter(tsne_data[0],tsne_data[1])\n",
    "#plt.savefig(os.path.join(FLAGS.checkpoint_path,'tsne.png'))"
   ]
  }
 ],
 "metadata": {
  "kernelspec": {
   "display_name": "Python 2",
   "language": "python",
   "name": "python2"
  },
  "language_info": {
   "codemirror_mode": {
    "name": "ipython",
    "version": 2
   },
   "file_extension": ".py",
   "mimetype": "text/x-python",
   "name": "python",
   "nbconvert_exporter": "python",
   "pygments_lexer": "ipython2",
   "version": "2.7.11"
  }
 },
 "nbformat": 4,
 "nbformat_minor": 0
}
